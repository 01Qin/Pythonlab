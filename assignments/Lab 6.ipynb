{
 "cells": [
  {
   "cell_type": "code",
   "id": "0a59bcfb-789a-4d9a-b379-90c773b139a6",
   "metadata": {
    "ExecuteTime": {
     "end_time": "2025-02-22T07:50:10.783481Z",
     "start_time": "2025-02-22T07:50:10.780922Z"
    }
   },
   "source": [
    "from numpy import dtype\n",
    "\n",
    "name = \"--\"\n",
    "student_number = 00000 # Write your student number here\n",
    "date_returned = \"23.2\""
   ],
   "outputs": [],
   "execution_count": 88
  },
  {
   "cell_type": "markdown",
   "id": "ff5b24c5-80d3-4185-a718-86fc3f7e48bd",
   "metadata": {},
   "source": [
    "# Lab 6. Matrices\n",
    "Hardware 1 - Mathematics Python Labs<br>\n",
    "Information and Communication Technology<br>\n"
   ]
  },
  {
   "cell_type": "markdown",
   "id": "0f87796b-9bef-4bdb-9843-87acda4b4b78",
   "metadata": {},
   "source": [
    "## Setup\n",
    "\n",
    "Read necessary libraries and functions."
   ]
  },
  {
   "cell_type": "code",
   "id": "1d5742e3-5811-49b9-8c95-ebd65a94cba5",
   "metadata": {
    "ExecuteTime": {
     "end_time": "2025-02-22T07:50:10.791242Z",
     "start_time": "2025-02-22T07:50:10.789326Z"
    }
   },
   "source": [
    "import numpy as np\n",
    "import matplotlib.pyplot as plt\n",
    "from numpy.linalg import det, inv, solve"
   ],
   "outputs": [],
   "execution_count": 89
  },
  {
   "cell_type": "markdown",
   "id": "f324626d-e1dd-438f-be4a-c237cae4ca9d",
   "metadata": {
    "tags": []
   },
   "source": [
    "---\n",
    "## Problem 1"
   ]
  },
  {
   "cell_type": "code",
   "id": "3c5f3e5b",
   "metadata": {
    "ExecuteTime": {
     "end_time": "2025-02-22T07:50:10.799971Z",
     "start_time": "2025-02-22T07:50:10.797378Z"
    }
   },
   "source": [
    "# Initialize random number generator\n",
    "rng = np.random.default_rng(seed=student_number)\n",
    "\n",
    "# Generate two random matrices\n",
    "A = rng.integers(low=-10, high=10, size=(3, 3))\n",
    "B = np.linalg.inv(A)\n",
    "\n",
    "# Print them\n",
    "print('A = \\n', A)\n",
    "print('B = \\n', B)"
   ],
   "outputs": [
    {
     "name": "stdout",
     "output_type": "stream",
     "text": [
      "A = \n",
      " [[ 7 -3  6]\n",
      " [-6 -6  5]\n",
      " [-5 -1 -2]]\n",
      "B = \n",
      " [[ 0.19767442 -0.13953488  0.24418605]\n",
      " [-0.43023256  0.18604651 -0.8255814 ]\n",
      " [-0.27906977  0.25581395 -0.69767442]]\n"
     ]
    }
   ],
   "execution_count": 90
  },
  {
   "cell_type": "markdown",
   "id": "60de03c7-30f4-43cb-86e5-ff3c59c8dbd3",
   "metadata": {},
   "source": [
    "Calculate the matrix operations $C = AB$ and $D = BA$. What do you observe?"
   ]
  },
  {
   "cell_type": "code",
   "id": "b0e6f6dd-7274-46ef-adb3-7f620157d33e",
   "metadata": {
    "ExecuteTime": {
     "end_time": "2025-02-22T07:50:10.813528Z",
     "start_time": "2025-02-22T07:50:10.810591Z"
    }
   },
   "source": [
    "# My code to solve C = AB\n",
    "C = np.dot(A,B)\n",
    "print (C)"
   ],
   "outputs": [
    {
     "name": "stdout",
     "output_type": "stream",
     "text": [
      "[[ 1.00000000e+00  0.00000000e+00  2.22044605e-16]\n",
      " [ 5.55111512e-17  1.00000000e+00 -9.99200722e-16]\n",
      " [ 2.22044605e-16  1.11022302e-16  1.00000000e+00]]\n"
     ]
    }
   ],
   "execution_count": 91
  },
  {
   "cell_type": "code",
   "id": "d97b3b59-db8f-42c9-998b-8cd6e76182b3",
   "metadata": {
    "ExecuteTime": {
     "end_time": "2025-02-22T07:50:10.826492Z",
     "start_time": "2025-02-22T07:50:10.823441Z"
    }
   },
   "source": [
    "# My code to solve D = BA\n",
    "D = np.dot(B,A)\n",
    "print(D)"
   ],
   "outputs": [
    {
     "name": "stdout",
     "output_type": "stream",
     "text": [
      "[[ 1.00000000e+00  1.66533454e-16 -3.33066907e-16]\n",
      " [-6.66133815e-16  1.00000000e+00 -4.44089210e-16]\n",
      " [ 1.11022302e-16 -1.11022302e-16  1.00000000e+00]]\n"
     ]
    }
   ],
   "execution_count": 92
  },
  {
   "cell_type": "code",
   "id": "68f20976-d9d1-4887-b6f7-4d006c82ed83",
   "metadata": {
    "ExecuteTime": {
     "end_time": "2025-02-22T07:50:10.836959Z",
     "start_time": "2025-02-22T07:50:10.834872Z"
    }
   },
   "source": [
    "# My observation about the results\n",
    "# The values that are not exactly 1 or 0 are extremely close to zero (on the order of 10⁻¹⁶). Floating-point numbers have limited precision, and calculations can introduce tiny inaccuracies that accumulate. This matrix is numerically very close to the identity matrix."
   ],
   "outputs": [],
   "execution_count": 93
  },
  {
   "cell_type": "markdown",
   "id": "ec70ac96-6bef-480a-a1a7-12bfb797cf78",
   "metadata": {},
   "source": [
    "---\n",
    "## Problem 2"
   ]
  },
  {
   "cell_type": "code",
   "id": "9a78a4e5",
   "metadata": {
    "ExecuteTime": {
     "end_time": "2025-02-22T09:40:06.721591Z",
     "start_time": "2025-02-22T09:40:06.715195Z"
    }
   },
   "source": [
    "# Initialize random number generator\n",
    "rng = np.random.default_rng(seed=student_number)\n",
    "\n",
    "# Generate two random matrices\n",
    "A = rng.integers(low=-10, high=10, size=(2, 2))\n",
    "b = rng.integers(low=-10, high=10, size=(2, 1))\n",
    "\n",
    "# Print them\n",
    "print('A = \\n', A)\n",
    "print('b = \\n', b)"
   ],
   "outputs": [
    {
     "name": "stdout",
     "output_type": "stream",
     "text": [
      "A = \n",
      " [[ 7 -3]\n",
      " [ 6 -6]]\n",
      "b = \n",
      " [[-6]\n",
      " [ 5]]\n"
     ]
    }
   ],
   "execution_count": 137
  },
  {
   "cell_type": "markdown",
   "id": "e3bf741b-e14c-4c4b-b881-d62ebbc16879",
   "metadata": {},
   "source": [
    "Write your own code that solves these equations: (**manually yourself, not using any linear algebra functions from numpy**) \n",
    "\n",
    "\\begin{align*} \n",
    "a_{11} x + a_{12}y &=  b_1 \\\\ \n",
    "a_{21} x + a_{22} y &= b_2\n",
    "\\end{align*}\n",
    "\n",
    "\n",
    "Then, check your answer using `numpy.linalg.solve()`."
   ]
  },
  {
   "cell_type": "code",
   "id": "5775df1e-b457-4ce4-a000-c89266534ee5",
   "metadata": {
    "ExecuteTime": {
     "end_time": "2025-02-22T11:54:23.150477Z",
     "start_time": "2025-02-22T11:54:23.141210Z"
    }
   },
   "source": [
    "# My code to solve the linear equations for x and y\n",
    "def solve_linear_equations(A,b):\n",
    "   a11, a12 = A[0]\n",
    "   a21, a22 = A[1]\n",
    "   b1, b2 = b[:,0]\n",
    "   denominator = a21 * a12 - a11 * a22\n",
    "   if denominator == 0:\n",
    "      return None, None\n",
    "   y = (a21 * b1 - a11 * b2) / denominator\n",
    "   x = (b1 - a12 * y) / a11\n",
    "   return x, y\n",
    "\n",
    "A = np.array([[7, -3],[6, -6]])\n",
    "b = np.array([[-6],[5]])\n",
    "x, y = solve_linear_equations(A, b)\n",
    "\n",
    "if x is None:\n",
    "    print(\"No unique solution\")\n",
    "else:\n",
    "    print(f\"x = {x}, y = {y}\")"
   ],
   "outputs": [
    {
     "name": "stdout",
     "output_type": "stream",
     "text": [
      "x = -2.125, y = -2.9583333333333335\n"
     ]
    }
   ],
   "execution_count": 141
  },
  {
   "cell_type": "code",
   "id": "be4f36f9-9a09-4798-a548-5f53303de4e8",
   "metadata": {
    "ExecuteTime": {
     "end_time": "2025-02-22T09:40:27.231379Z",
     "start_time": "2025-02-22T09:40:27.226036Z"
    }
   },
   "source": [
    "# Check with numpy.linalg.solve\n",
    "x = solve(A,b)\n",
    "print(x)"
   ],
   "outputs": [
    {
     "name": "stdout",
     "output_type": "stream",
     "text": [
      "[[-2.125     ]\n",
      " [-2.95833333]]\n"
     ]
    }
   ],
   "execution_count": 139
  },
  {
   "cell_type": "markdown",
   "id": "32c9895e-3bd2-4950-a6b8-7b97c3b6a14b",
   "metadata": {},
   "source": [
    "---\n",
    "## Problem 3\n",
    "Solve the following equations using numpy linear algebra operations\n",
    "\n",
    "$$ Ax = b $$"
   ]
  },
  {
   "cell_type": "code",
   "id": "ff41220d-5da6-46bf-b963-69386158f120",
   "metadata": {
    "ExecuteTime": {
     "end_time": "2025-02-22T07:50:10.887699Z",
     "start_time": "2025-02-22T07:50:10.885239Z"
    }
   },
   "source": [
    "# Initialize random number generator\n",
    "rng = np.random.default_rng(seed=student_number)\n",
    "\n",
    "# Generate two random matrices\n",
    "A = rng.integers(low=-100, high=100, size=(5, 5))\n",
    "b = rng.integers(low=-100, high=100, size=(5, 1))\n",
    "\n",
    "# Print them\n",
    "print('A = \\n', A)\n",
    "print('b = \\n', b)"
   ],
   "outputs": [
    {
     "name": "stdout",
     "output_type": "stream",
     "text": [
      "A = \n",
      " [[ 72 -25  61 -60 -56]\n",
      " [ 51 -48  -9 -12 -93]\n",
      " [-74  35 -29 -50  68]\n",
      " [ 35 -41  12  79  91]\n",
      " [  2 -66  24  11 -12]]\n",
      "b = \n",
      " [[ 70]\n",
      " [-53]\n",
      " [ 92]\n",
      " [-87]\n",
      " [ 36]]\n"
     ]
    }
   ],
   "execution_count": 97
  },
  {
   "cell_type": "code",
   "id": "0a05070a",
   "metadata": {
    "ExecuteTime": {
     "end_time": "2025-02-22T07:50:10.899424Z",
     "start_time": "2025-02-22T07:50:10.896850Z"
    }
   },
   "source": [
    "# My solution for problem 3\n",
    "x = solve(A, b)\n",
    "print('x = \\n', x)"
   ],
   "outputs": [
    {
     "name": "stdout",
     "output_type": "stream",
     "text": [
      "x = \n",
      " [[-1.12090229]\n",
      " [-0.26041029]\n",
      " [ 1.40667358]\n",
      " [-1.05700307]\n",
      " [ 0.08986722]]\n"
     ]
    }
   ],
   "execution_count": 98
  },
  {
   "cell_type": "markdown",
   "id": "80f0ffcb-f7e7-4d37-b778-769658e88fa9",
   "metadata": {},
   "source": [
    "---\n",
    "## Problem 4\n",
    "If $a_n = n$, find **the determinant** of the matrix\n",
    "$A = \\left( \\begin{matrix} \n",
    "a_1 & a_2 & a_3 & a_4 & a_5 \\\\\n",
    "a_5 & a_1 & a_2 & a_3 & a_4 \\\\\n",
    "a_4 & a_5 & a_1 & a_2 & a_3 \\\\\n",
    "a_3 & a_4 & a_5 & a_1 & a_2 \\\\\n",
    "a_2 & a_3 & a_4 & a_5 & a_1 \\\\\n",
    "\\end{matrix} \\right)$. Give the final answer in integers."
   ]
  },
  {
   "cell_type": "code",
   "id": "0262bf05-6637-4f94-a5d0-52f15f018333",
   "metadata": {
    "ExecuteTime": {
     "end_time": "2025-02-22T07:50:10.913483Z",
     "start_time": "2025-02-22T07:50:10.910397Z"
    }
   },
   "source": [
    "# Solution for problem 4\n",
    "A = np.array([[1, 2, 3, 4, 5],[5,1,2,3,4],[4,5,1,2,3],[3,4,5,1,2],[2,3,4,5,1]])\n",
    "A_det = np.linalg.det(A)\n",
    "print('A_det = \\n', int(A_det))"
   ],
   "outputs": [
    {
     "name": "stdout",
     "output_type": "stream",
     "text": [
      "A_det = \n",
      " 1875\n"
     ]
    }
   ],
   "execution_count": 99
  },
  {
   "cell_type": "markdown",
   "id": "ceb97373-1ee9-44a8-b9a3-c75327e4ee27",
   "metadata": {},
   "source": [
    "---\n",
    "## Problem 5\n",
    "If $ A(a, x) = \\left( \\begin{matrix}\n",
    "a + x & a - x & a - x \\\\\n",
    "a - x & a + x & a - x \\\\\n",
    "a - x & a - x & a + x\n",
    "\\end{matrix} \\right)$ and $a = 3.0$, find $x > 0$, so that $det(A(a, x)) = 0$. \n",
    "\n",
    "How are $a$ and $x$ related? When you have found the relationship, try another value for $a$.\n",
    "\n",
    "Tip: Make a code that \n",
    "- uses linearly spaced values for $x \\in [0, 10]$, for example. Use `numpy.linspace`.\n",
    "- calculates the $f(x) = det(A(a, x))$ for all values of $x$ and then \n",
    "- makes a graphical plot of $f(x)$ versus $x$. \n",
    "- Finally, from the graph, find when $f(x) = 0$."
   ]
  },
  {
   "cell_type": "code",
   "id": "19dedf68-5047-4df2-8f8f-e38ab5aa2e91",
   "metadata": {
    "ExecuteTime": {
     "end_time": "2025-02-22T09:12:53.796075Z",
     "start_time": "2025-02-22T09:12:53.698101Z"
    }
   },
   "source": [
    "# Solution for problem 5\n",
    "def det_A(a, x):\n",
    "    return (a+x)**3 + 2*(a-x)**3 - 3*(a+x)*(a-x)**2\n",
    "\n",
    "a = 3.0\n",
    "x_values = np.linspace(0,10,1000)\n",
    "det_values = [det_A(a, x)for x in x_values]\n",
    "\n",
    "plt.plot(x_values, det_values)\n",
    "plt.xlabel('x')\n",
    "plt.ylabel('y')\n",
    "plt.title(\"f(x) vs x\")\n",
    "plt.grid(True)\n",
    "plt.axhline(y=0, color='r')\n",
    "plt.axvline(x=0, color='y')\n",
    "plt.show()\n",
    "\n",
    "zoom_range = 0.1\n",
    "zoom_x = np.linspace(9-zoom_range, 9+zoom_range, 100)\n",
    "zoom_y = [det_A(a, x)for x in zoom_x]\n",
    "plt.figure()\n",
    "plt.plot(zoom_x, zoom_y)\n",
    "plt.xlabel('x')\n",
    "plt.ylabel('det(A)')\n",
    "plt.title(\"Zoomed plot around x = 9.00\")\n",
    "plt.grid(True)\n",
    "plt.axhline(y=0, color='r')\n",
    "plt.axvline(x=9, color='y')\n",
    "plt.show()"
   ],
   "outputs": [
    {
     "data": {
      "text/plain": [
       "<Figure size 640x480 with 1 Axes>"
      ],
      "image/png": "[encoded data removed]"
     },
     "metadata": {},
     "output_type": "display_data"
    },
    {
     "data": {
      "text/plain": [
       "<Figure size 640x480 with 1 Axes>"
      ],
      "image/png": "[encoded data removed]"
     },
     "metadata": {},
     "output_type": "display_data"
    }
   ],
   "execution_count": 129
  },
  {
   "cell_type": "code",
   "execution_count": 14,
   "id": "256ae2a3-f1d4-4076-a745-fb5a6f17e00e",
   "metadata": {},
   "outputs": [],
   "source": [
    "# My studies on the relationship between a and x\n",
    "# a sets a kind of \"center\" point around which x causes the function to increase or decrease. The effect of changing a is to shift and scale the entire curve described by the function as x varies. By changing the value of a and rerunning the code, we can visually observe how this change affects the shape and position of the curve. we see that changing a shifts and scales the curve, but the general cubic nature of the relationship between det_A, a, and x remains. "
   ]
  }
 ],
 "metadata": {
  "kernelspec": {
   "display_name": "Python 3",
   "language": "python",
   "name": "python3"
  },
  "language_info": {
   "codemirror_mode": {
    "name": "ipython",
    "version": 3
   },
   "file_extension": ".py",
   "mimetype": "text/x-python",
   "name": "python",
   "nbconvert_exporter": "python",
   "pygments_lexer": "ipython3",
   "version": "3.11.9"
  }
 },
 "nbformat": 4,
 "nbformat_minor": 5
}
