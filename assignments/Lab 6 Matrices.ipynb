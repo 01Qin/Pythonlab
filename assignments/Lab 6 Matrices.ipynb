{
 "cells": [
  {
   "cell_type": "code",
   "execution_count": null,
   "id": "0a59bcfb-789a-4d9a-b379-90c773b139a6",
   "metadata": {},
   "outputs": [],
   "source": [
    "name = \"Write your name here\"\n",
    "date_returned = \"Write the date returned here\""
   ]
  },
  {
   "cell_type": "markdown",
   "id": "ff5b24c5-80d3-4185-a718-86fc3f7e48bd",
   "metadata": {},
   "source": [
    "# Lab 6. Matrices\n",
    "Hardware 1 course - Mathematics<br>\n",
    "Information and Communication Technology<br>\n",
    "Metropolia University of Applied Sciences"
   ]
  },
  {
   "cell_type": "markdown",
   "id": "0f87796b-9bef-4bdb-9843-87acda4b4b78",
   "metadata": {},
   "source": [
    "## Setup\n",
    "\n",
    "Read necessary libraries and functions."
   ]
  },
  {
   "cell_type": "code",
   "execution_count": 1,
   "id": "1d5742e3-5811-49b9-8c95-ebd65a94cba5",
   "metadata": {},
   "outputs": [],
   "source": [
    "import numpy as np\n",
    "import matplotlib.pyplot as plt\n",
    "from numpy import sin, cos, dot\n",
    "from numpy.linalg import det, inv, solve"
   ]
  },
  {
   "cell_type": "markdown",
   "id": "f324626d-e1dd-438f-be4a-c237cae4ca9d",
   "metadata": {
    "tags": []
   },
   "source": [
    "---\n",
    "## Problem 1"
   ]
  },
  {
   "cell_type": "markdown",
   "id": "60de03c7-30f4-43cb-86e5-ff3c59c8dbd3",
   "metadata": {},
   "source": [
    "Write your own code (e.g. do not use `numpy.linalg.inv`, but code yourself) to find the inverse of the following matrices:<br>\n",
    "$A = \\left( \\begin{array}{cc} 2 & 3 \\\\ 4 & 1 \\end{array} \\right)$\n",
    "and\n",
    "$B = \\left( \\begin{array}{cc} 6 & 2 \\\\ 9 & 3 \\end{array} \\right)$\n",
    "\n",
    "Then check with `numpy.linalg.inv()` your answers."
   ]
  },
  {
   "cell_type": "code",
   "execution_count": 2,
   "id": "b0e6f6dd-7274-46ef-adb3-7f620157d33e",
   "metadata": {},
   "outputs": [],
   "source": [
    "# My code to solve inverse of A\n"
   ]
  },
  {
   "cell_type": "code",
   "execution_count": 3,
   "id": "d97b3b59-db8f-42c9-998b-8cd6e76182b3",
   "metadata": {},
   "outputs": [
    {
     "data": {
      "text/plain": [
       "array([[-0.1,  0.3],\n",
       "       [ 0.4, -0.2]])"
      ]
     },
     "execution_count": 3,
     "metadata": {},
     "output_type": "execute_result"
    }
   ],
   "source": [
    "# Check with numpy.linalg.inv\n"
   ]
  },
  {
   "cell_type": "code",
   "execution_count": 4,
   "id": "68f20976-d9d1-4887-b6f7-4d006c82ed83",
   "metadata": {},
   "outputs": [],
   "source": [
    "# My code to solve inverse of B\n"
   ]
  },
  {
   "cell_type": "code",
   "execution_count": 5,
   "id": "7b76fbf7-d8ec-40ea-b152-0459b6c8981d",
   "metadata": {},
   "outputs": [
    {
     "data": {
      "text/plain": [
       "array([[-3.00239975e+15,  2.00159983e+15],\n",
       "       [ 9.00719925e+15, -6.00479950e+15]])"
      ]
     },
     "execution_count": 5,
     "metadata": {},
     "output_type": "execute_result"
    }
   ],
   "source": [
    "# Check with numpy.linalg.inv\n"
   ]
  },
  {
   "cell_type": "markdown",
   "id": "c1872d9e-a3d0-469b-a4f6-f114ff8399bb",
   "metadata": {},
   "source": [
    "---\n",
    "## Problem 2"
   ]
  },
  {
   "cell_type": "markdown",
   "id": "ea1f2fa2-b7d1-41ba-a468-0cefc79db29c",
   "metadata": {},
   "source": [
    "If $A = \\left( \\begin{array}{cc} 1 & 3 \\\\ -2 & 4 \\end{array} \\right)$ and  $B = \\left( \\begin{array}{cc} 2 & 1 \\\\ -4 & 5 \\end{array} \\right)$, \n",
    "\n",
    "write your own code (e.g. do not use `numpy.dot` or `@` operator, but code yourself) to find $AB$ and $BA$.\n",
    "\n",
    "Then, check with matrix multiplication operator `@`or with `numpy.dot()` your answers."
   ]
  },
  {
   "cell_type": "code",
   "execution_count": 6,
   "id": "4049b37b-9313-4dc6-91df-a1f69b2d109b",
   "metadata": {},
   "outputs": [
    {
     "data": {
      "text/plain": [
       "array([[39, 13],\n",
       "       [33, 11]])"
      ]
     },
     "execution_count": 6,
     "metadata": {},
     "output_type": "execute_result"
    }
   ],
   "source": [
    "# My code to solve AB\n"
   ]
  },
  {
   "cell_type": "code",
   "execution_count": null,
   "id": "1bcedb6d-5dce-4f10-b090-5e053c416c1f",
   "metadata": {},
   "outputs": [],
   "source": [
    "# Check with numpy.dot\n"
   ]
  },
  {
   "cell_type": "code",
   "execution_count": null,
   "id": "722aba36-62b4-4225-a1ce-db7c96de12bd",
   "metadata": {},
   "outputs": [],
   "source": [
    "# My code to solve BA\n"
   ]
  },
  {
   "cell_type": "code",
   "execution_count": null,
   "id": "cdfb2589-b062-4a80-9be0-15b591b3d045",
   "metadata": {},
   "outputs": [],
   "source": [
    "# Check with numpy.dot\n"
   ]
  },
  {
   "cell_type": "markdown",
   "id": "ec70ac96-6bef-480a-a1a7-12bfb797cf78",
   "metadata": {},
   "source": [
    "---\n",
    "## Problem 3"
   ]
  },
  {
   "cell_type": "markdown",
   "id": "e3bf741b-e14c-4c4b-b881-d62ebbc16879",
   "metadata": {},
   "source": [
    "First, use paper and pen to find a generic algebraic solution for the linear equations for $x$ and $y$\n",
    "\n",
    "\\begin{align*} \n",
    "a_{11} x + a_{12}y &=  b_1 \\\\ \n",
    "a_{21} x + a_{22} y &= b_2\n",
    "\\end{align*}\n",
    "\n",
    "Then, write a code (manually yourself, not using any ready linear algebra functions from numpy) that solves the following equations:\n",
    "\n",
    "\\begin{align*} \n",
    "2x - 5y &=  8 \\\\ \n",
    "3x + 9y &=  -12\n",
    "\\end{align*}\n",
    "\n",
    "Finally, check your answer using `numpy.linalg.solve()`."
   ]
  },
  {
   "cell_type": "code",
   "execution_count": null,
   "id": "5775df1e-b457-4ce4-a000-c89266534ee5",
   "metadata": {},
   "outputs": [],
   "source": [
    "# My code to solve the linear equations for x and y\n",
    "\n",
    "# Print out the final result\n",
    "print(f'x = {x}')\n",
    "print(f'y = {y}')"
   ]
  },
  {
   "cell_type": "code",
   "execution_count": null,
   "id": "be4f36f9-9a09-4798-a548-5f53303de4e8",
   "metadata": {},
   "outputs": [],
   "source": [
    "# Check with numpy.linalg.solve\n"
   ]
  },
  {
   "cell_type": "markdown",
   "id": "a2e49635-571a-4309-b0fc-4829ee6994d3",
   "metadata": {},
   "source": [
    "---\n",
    "## Problem 4\n",
    "Solve the following equations using `numpy.linalg.solve()` \n",
    "\\begin{align*}\n",
    "2x + y + 3z = −1 \\\\\n",
    "x − y − 2z = 5 \\\\\n",
    "2x + y − 3z = 2\n",
    "\\end{align*}"
   ]
  },
  {
   "cell_type": "code",
   "execution_count": null,
   "id": "639f1242-1f89-4ed1-8e3b-cb91f2795ffc",
   "metadata": {},
   "outputs": [],
   "source": [
    "# Solution for problem 4\n"
   ]
  },
  {
   "cell_type": "markdown",
   "id": "32c9895e-3bd2-4950-a6b8-7b97c3b6a14b",
   "metadata": {},
   "source": [
    "---\n",
    "## Problem 5\n",
    "Solve the following equations using numpy linear algebra operations\n",
    "\\begin{matrix} \n",
    "6x_1 + 6x_2 + 2x_3 + 3x_4 + 3x_5 = 7 \\\\\n",
    "3x_1 + 8x_2 + 8x_3 + 6x_4 + 8x_5 = 4 \\\\\n",
    "2x_1 + 3x_2 + 7x_3 + 6x_4 + 8x_5 = 1 \\\\\n",
    "3x_1 + 8x_2 + 7x_3 + 2x_4 + 2x_5 = 2 \\\\\n",
    "x_1 + 2x_2 + 8x_3 + 8x_4 + 8x_5 = 2\n",
    "\\end{matrix}"
   ]
  },
  {
   "cell_type": "code",
   "execution_count": 5,
   "id": "ff41220d-5da6-46bf-b963-69386158f120",
   "metadata": {},
   "outputs": [],
   "source": [
    "# Solution for problem 6\n",
    "\n"
   ]
  },
  {
   "cell_type": "markdown",
   "id": "492a9dad-5aa7-4d7a-b0f5-93c27d9f25dd",
   "metadata": {},
   "source": [
    "---\n",
    "## Problem 6\n",
    "Using numpy, determine if the following system has a nontrivial solution\n",
    "\\begin{align*}\n",
    "2x − 3y − 2z = 0 \\\\\n",
    "3x + y − 3z = 0 \\\\\n",
    "x − 7y − z = 0 \\\\\n",
    "\\end{align*}\n",
    "\n",
    "Note: nontrivial means that all $ x \\neq 0$, $y \\neq 0$, and $z \\neq 0$. "
   ]
  },
  {
   "cell_type": "code",
   "execution_count": null,
   "id": "6b992f33-e6e3-4ca6-a538-18b43fa0484c",
   "metadata": {},
   "outputs": [],
   "source": [
    "# Solution for problem 5\n"
   ]
  },
  {
   "cell_type": "markdown",
   "id": "80f0ffcb-f7e7-4d37-b778-769658e88fa9",
   "metadata": {},
   "source": [
    "---\n",
    "## Problem 7\n",
    "If $a_n = n^2$ (e.g. $a_1 = 1$, $a_2 = 2^2$, etc.) find the determinant of the cyclic matrix\n",
    "$A = \\left( \\begin{matrix} \n",
    "a_1 & a_2 & a_3 & a_4 & a_5 \\\\\n",
    "a_5 & a_1 & a_2 & a_3 & a_4 \\\\\n",
    "a_4 & a_5 & a_1 & a_2 & a_3 \\\\\n",
    "a_3 & a_4 & a_5 & a_1 & a_2 \\\\\n",
    "a_2 & a_3 & a_4 & a_5 & a_1 \\\\\n",
    "\\end{matrix} \\right)$"
   ]
  },
  {
   "cell_type": "code",
   "execution_count": null,
   "id": "0262bf05-6637-4f94-a5d0-52f15f018333",
   "metadata": {},
   "outputs": [],
   "source": [
    "# Solution for problem 7\n"
   ]
  },
  {
   "cell_type": "markdown",
   "id": "0d2169b7-eeea-473c-a658-a064d051c6cd",
   "metadata": {},
   "source": [
    "---\n",
    "## Problem 8\n",
    "Find the determinant of the matrix \n",
    "$A = \\left( \\begin{matrix} \n",
    "1 & sin(3t) & sin^3(t) \\\\\n",
    "2cos(t) & sin(6t) & sin^3(2t) \\\\\n",
    "4cos^2(t) - 1 & sin(9t) & sin^3(3t)\n",
    "\\end{matrix} \\right)$, when  \n",
    "\n",
    "(a) $t = 1.0$, <br>\n",
    "(b) $t = 2.03$, and <br>\n",
    "(c) $t = -0.345$. <br>\n",
    "Round the results to 3 decimals. What do you observe?"
   ]
  },
  {
   "cell_type": "code",
   "execution_count": null,
   "id": "f4ec096b-eb29-42f7-a7d8-a817e43c2be8",
   "metadata": {},
   "outputs": [],
   "source": [
    "# Solution (a)\n",
    "np.sin(3*t)"
   ]
  },
  {
   "cell_type": "raw",
   "id": "6c8a957c-6927-44df-a041-b5d3cf07c812",
   "metadata": {},
   "source": [
    "# Solution (b)\n"
   ]
  },
  {
   "cell_type": "code",
   "execution_count": null,
   "id": "3557bf64-596c-4c31-97bd-a20aedf97f95",
   "metadata": {},
   "outputs": [],
   "source": [
    "# Solution (c)\n"
   ]
  },
  {
   "cell_type": "markdown",
   "id": "a927745f-5256-40c3-8562-29f4e8e438f4",
   "metadata": {},
   "source": [
    "**My observations:**"
   ]
  },
  {
   "cell_type": "markdown",
   "id": "ceb97373-1ee9-44a8-b9a3-c75327e4ee27",
   "metadata": {},
   "source": [
    "---\n",
    "## Problem 9\n",
    "If $ A(a, x) = \\left( \\begin{matrix}\n",
    "a + x & a - x & a - x \\\\\n",
    "a - x & a + x & a - x \\\\\n",
    "a - x & a - x & a + x\n",
    "\\end{matrix} \\right)$ and $a = 1$, find $x > 0$, so that $det(A(a, x)) = 0$. \n",
    "\n",
    "How $a$ and $x$ are related? \n",
    "\n",
    "When you have found the relationship, try another value for $a$, for example $a = 2$.\n",
    "\n",
    "Tip: Make a code that \n",
    "- uses linearly spaced values for $x \\in [0, 10]$, for example. Use `numpy.linspace`.\n",
    "- calculates the $f(x) = det(A(a, x))$ for all values of $x$ and then \n",
    "- makes a graphical plot of $f(x)$ versus $x$. \n",
    "- Finally, from the graph, find when $f(x) = 0$."
   ]
  },
  {
   "cell_type": "code",
   "execution_count": 6,
   "id": "19dedf68-5047-4df2-8f8f-e38ab5aa2e91",
   "metadata": {},
   "outputs": [],
   "source": [
    "# Solution for problem 8\n"
   ]
  },
  {
   "cell_type": "markdown",
   "id": "256ae2a3-f1d4-4076-a745-fb5a6f17e00e",
   "metadata": {},
   "source": [
    "**The relationship between $a$ and $x$: (Write here your findings)**"
   ]
  },
  {
   "cell_type": "markdown",
   "id": "d21cdfd9-e0ce-42da-b351-dcf4eacaba4d",
   "metadata": {},
   "source": [
    "---\n",
    "## Problem 10\n",
    "if $A = \\left( \\begin{matrix}\n",
    "0 & 1 & 2 \\\\\n",
    "1 & 2 & 3 \\\\\n",
    "3 & a & 1 \\end{matrix} \\right)$ and \n",
    "$A^{-1} = \\left( \\begin{matrix}\n",
    "0.5 & -0.5 & 0.5 \\\\\n",
    "-4 & 3 & c \\\\\n",
    "2.5 & -1.5 & 0.5 \\end{matrix} \\right)$\n",
    "\n",
    "For which of the values of  $a \\in \\left( -5, -4, -3,-2,-1,0,1,2,3,4,5 \\right)$ this is true? What is the value of $c$ then?\n",
    "\n",
    "Tip: Make a loop that prints out the inverse of $A$ for each value of $a$. Then, check which value of $a$ gives the needed inverse matrix and find from there the value for $c$."
   ]
  },
  {
   "cell_type": "code",
   "execution_count": null,
   "id": "0152b1eb-060b-4aae-95fc-b68e73815f35",
   "metadata": {},
   "outputs": [],
   "source": [
    "# Solution for problem 10\n"
   ]
  }
 ],
 "metadata": {
  "kernelspec": {
   "display_name": "Python 3 (ipykernel)",
   "language": "python",
   "name": "python3"
  },
  "language_info": {
   "codemirror_mode": {
    "name": "ipython",
    "version": 3
   },
   "file_extension": ".py",
   "mimetype": "text/x-python",
   "name": "python",
   "nbconvert_exporter": "python",
   "pygments_lexer": "ipython3",
   "version": "3.9.18"
  }
 },
 "nbformat": 4,
 "nbformat_minor": 5
}
