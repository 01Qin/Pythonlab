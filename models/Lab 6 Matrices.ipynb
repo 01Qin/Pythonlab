{
 "cells": [
  {
   "cell_type": "code",
   "execution_count": 1,
   "id": "0a59bcfb-789a-4d9a-b379-90c773b139a6",
   "metadata": {},
   "outputs": [],
   "source": [
    "name = \"\"\n",
    "student_number = \"\" # Write your student number here\n",
    "date_returned = \"23.2\""
   ]
  },
  {
   "cell_type": "markdown",
   "id": "ff5b24c5-80d3-4185-a718-86fc3f7e48bd",
   "metadata": {},
   "source": [
    "# Lab 6. Matrices\n",
    "Hardware 1 - Mathematics Python Labs<br>\n",
    "Information and Communication Technology<br>\n"
   ]
  },
  {
   "cell_type": "markdown",
   "id": "0f87796b-9bef-4bdb-9843-87acda4b4b78",
   "metadata": {},
   "source": [
    "## Setup\n",
    "\n",
    "Read necessary libraries and functions."
   ]
  },
  {
   "cell_type": "code",
   "id": "1d5742e3-5811-49b9-8c95-ebd65a94cba5",
   "metadata": {
    "ExecuteTime": {
     "end_time": "2025-02-20T14:54:10.195081Z",
     "start_time": "2025-02-20T14:54:10.185520Z"
    }
   },
   "source": [
    "import numpy as np\n",
    "import matplotlib.pyplot as plt\n",
    "from numpy.linalg import det, inv, solve"
   ],
   "outputs": [],
   "execution_count": 14
  },
  {
   "cell_type": "markdown",
   "id": "f324626d-e1dd-438f-be4a-c237cae4ca9d",
   "metadata": {
    "tags": []
   },
   "source": [
    "---\n",
    "## Problem 1"
   ]
  },
  {
   "cell_type": "code",
   "id": "3c5f3e5b",
   "metadata": {
    "ExecuteTime": {
     "end_time": "2025-02-20T14:04:33.280821Z",
     "start_time": "2025-02-20T14:04:33.275939Z"
    }
   },
   "source": [
    "# Initialize random number generator\n",
    "rng = np.random.default_rng(seed=2)\n",
    "\n",
    "# Generate two random matrices\n",
    "A = rng.integers(low=-10, high=10, size=(3, 3))\n",
    "B = np.linalg.inv(A)\n",
    "\n",
    "# Print them\n",
    "print('A = \\n', A)\n",
    "print('B = \\n', B)"
   ],
   "outputs": [
    {
     "name": "stdout",
     "output_type": "stream",
     "text": [
      "A = \n",
      " [[ 6 -5 -8]\n",
      " [-5 -2  6]\n",
      " [-1 -9 -4]]\n",
      "B = \n",
      " [[ 0.39240506  0.32911392 -0.29113924]\n",
      " [-0.16455696 -0.20253165  0.02531646]\n",
      " [ 0.2721519   0.37341772 -0.23417722]]\n"
     ]
    }
   ],
   "execution_count": 6
  },
  {
   "cell_type": "markdown",
   "id": "60de03c7-30f4-43cb-86e5-ff3c59c8dbd3",
   "metadata": {},
   "source": [
    "Calculate the matrix operations $C = AB$ and $D = BA$. What do you observe?"
   ]
  },
  {
   "cell_type": "code",
   "id": "b0e6f6dd-7274-46ef-adb3-7f620157d33e",
   "metadata": {
    "ExecuteTime": {
     "end_time": "2025-02-20T14:08:18.572928Z",
     "start_time": "2025-02-20T14:08:18.570301Z"
    }
   },
   "source": [
    "# My code to solve C = AB\n",
    "C = A @ B\n",
    "print (C)"
   ],
   "outputs": [
    {
     "name": "stdout",
     "output_type": "stream",
     "text": [
      "[[ 1.00000000e+00  0.00000000e+00  2.22044605e-16]\n",
      " [ 1.11022302e-16  1.00000000e+00  2.77555756e-16]\n",
      " [ 0.00000000e+00 -2.22044605e-16  1.00000000e+00]]\n"
     ]
    }
   ],
   "execution_count": 13
  },
  {
   "cell_type": "code",
   "id": "d97b3b59-db8f-42c9-998b-8cd6e76182b3",
   "metadata": {
    "ExecuteTime": {
     "end_time": "2025-02-20T14:08:10.754171Z",
     "start_time": "2025-02-20T14:08:10.747534Z"
    }
   },
   "source": [
    "# My code to solve D = BA\n",
    "D = B @ A\n",
    "print (D)"
   ],
   "outputs": [
    {
     "name": "stdout",
     "output_type": "stream",
     "text": [
      "[[ 1.00000000e+00 -2.77555756e-16  2.22044605e-16]\n",
      " [ 1.73472348e-16  1.00000000e+00  2.77555756e-17]\n",
      " [-1.94289029e-16 -1.94289029e-16  1.00000000e+00]]\n"
     ]
    }
   ],
   "execution_count": 12
  },
  {
   "cell_type": "code",
   "id": "68f20976-d9d1-4887-b6f7-4d006c82ed83",
   "metadata": {
    "ExecuteTime": {
     "end_time": "2025-02-20T14:06:41.971847Z",
     "start_time": "2025-02-20T14:06:41.947675Z"
    }
   },
   "source": "# My observation about the results\n",
   "outputs": [
    {
     "name": "stdout",
     "output_type": "stream",
     "text": [
      "[[ 1.00000000e+00  0.00000000e+00  2.22044605e-16]\n",
      " [ 1.11022302e-16  1.00000000e+00  2.77555756e-16]\n",
      " [ 0.00000000e+00 -2.22044605e-16  1.00000000e+00]]\n"
     ]
    },
    {
     "ename": "NameError",
     "evalue": "name 'C2' is not defined",
     "output_type": "error",
     "traceback": [
      "\u001B[0;31m---------------------------------------------------------------------------\u001B[0m",
      "\u001B[0;31mNameError\u001B[0m                                 Traceback (most recent call last)",
      "Cell \u001B[0;32mIn[8], line 3\u001B[0m\n\u001B[1;32m      1\u001B[0m \u001B[38;5;66;03m# My observation about the results\u001B[39;00m\n\u001B[1;32m      2\u001B[0m \u001B[38;5;28mprint\u001B[39m (C1)\n\u001B[0;32m----> 3\u001B[0m \u001B[38;5;28mprint\u001B[39m (C2)\n",
      "\u001B[0;31mNameError\u001B[0m: name 'C2' is not defined"
     ]
    }
   ],
   "execution_count": 8
  },
  {
   "cell_type": "markdown",
   "id": "ec70ac96-6bef-480a-a1a7-12bfb797cf78",
   "metadata": {},
   "source": [
    "---\n",
    "## Problem 2"
   ]
  },
  {
   "cell_type": "code",
   "execution_count": null,
   "id": "9a78a4e5",
   "metadata": {},
   "outputs": [],
   "source": [
    "# Initialize random number generator\n",
    "rng = np.random.default_rng(seed=2)\n",
    "\n",
    "# Generate two random matrices\n",
    "A = rng.integers(low=-10, high=10, size=(2, 2))\n",
    "b = rng.integers(low=-10, high=10, size=(2, 1))\n",
    "\n",
    "# Print them\n",
    "print('A = \\n', A)\n",
    "print('b = \\n', b)"
   ]
  },
  {
   "cell_type": "markdown",
   "id": "e3bf741b-e14c-4c4b-b881-d62ebbc16879",
   "metadata": {},
   "source": [
    "Write your own code that solves these equations: (**manually yourself, not using any linear algebra functions from numpy**) \n",
    "\n",
    "\\begin{align*} \n",
    "a_{11} x + a_{12}y &=  b_1 \\\\ \n",
    "a_{21} x + a_{22} y &= b_2\n",
    "\\end{align*}\n",
    "\n",
    "\n",
    "Then, check your answer using `numpy.linalg.solve()`."
   ]
  },
  {
   "cell_type": "code",
   "execution_count": 8,
   "id": "5775df1e-b457-4ce4-a000-c89266534ee5",
   "metadata": {},
   "outputs": [],
   "source": [
    "# My code to solve the linear equations for x and y"
   ]
  },
  {
   "cell_type": "code",
   "execution_count": null,
   "id": "be4f36f9-9a09-4798-a548-5f53303de4e8",
   "metadata": {},
   "outputs": [],
   "source": [
    "# Check with numpy.linalg.solve\n"
   ]
  },
  {
   "cell_type": "markdown",
   "id": "32c9895e-3bd2-4950-a6b8-7b97c3b6a14b",
   "metadata": {},
   "source": [
    "---\n",
    "## Problem 3\n",
    "Solve the following equations using numpy linear algebra operations\n",
    "\n",
    "$$ Ax = b $$"
   ]
  },
  {
   "cell_type": "code",
   "id": "ff41220d-5da6-46bf-b963-69386158f120",
   "metadata": {
    "ExecuteTime": {
     "end_time": "2025-02-20T14:55:30.901870Z",
     "start_time": "2025-02-20T14:55:30.890586Z"
    }
   },
   "source": [
    "# Initialize random number generator\n",
    "rng = np.random.default_rng(seed=2)\n",
    "\n",
    "# Generate two random matrices\n",
    "A = rng.integers(low=-100, high=100, size=(5, 5))\n",
    "b = rng.integers(low=-100, high=100, size=(5, 1))\n",
    "\n",
    "# Print them\n",
    "print('A = \\n', A)\n",
    "print('b = \\n', b)"
   ],
   "outputs": [
    {
     "name": "stdout",
     "output_type": "stream",
     "text": [
      "A = \n",
      " [[ 67 -48 -79 -41 -18]\n",
      " [ 62 -10 -82 -34  20]\n",
      " [ 62  45  98 -63  76]\n",
      " [-89  11 -46 -60  31]\n",
      " [-39  12 -48 -70  49]]\n",
      "b = \n",
      " [[-14]\n",
      " [ 35]\n",
      " [ 33]\n",
      " [ 89]\n",
      " [-16]]\n"
     ]
    }
   ],
   "execution_count": 16
  },
  {
   "cell_type": "code",
   "id": "0a05070a",
   "metadata": {
    "ExecuteTime": {
     "end_time": "2025-02-20T14:55:33.564572Z",
     "start_time": "2025-02-20T14:55:33.559387Z"
    }
   },
   "source": [
    "# My solution for problem 3\n",
    "x = solve(A, b)\n"
   ],
   "outputs": [],
   "execution_count": 17
  },
  {
   "cell_type": "markdown",
   "id": "80f0ffcb-f7e7-4d37-b778-769658e88fa9",
   "metadata": {},
   "source": [
    "---\n",
    "## Problem 4\n",
    "If $a_n = n$, find **the determinant** of the matrix\n",
    "$A = \\left( \\begin{matrix} \n",
    "a_1 & a_2 & a_3 & a_4 & a_5 \\\\\n",
    "a_5 & a_1 & a_2 & a_3 & a_4 \\\\\n",
    "a_4 & a_5 & a_1 & a_2 & a_3 \\\\\n",
    "a_3 & a_4 & a_5 & a_1 & a_2 \\\\\n",
    "a_2 & a_3 & a_4 & a_5 & a_1 \\\\\n",
    "\\end{matrix} \\right)$. Give the final answer in integers."
   ]
  },
  {
   "cell_type": "code",
   "execution_count": null,
   "id": "0262bf05-6637-4f94-a5d0-52f15f018333",
   "metadata": {},
   "outputs": [],
   "source": [
    "# Solution for problem 4\n"
   ]
  },
  {
   "cell_type": "markdown",
   "id": "ceb97373-1ee9-44a8-b9a3-c75327e4ee27",
   "metadata": {},
   "source": [
    "---\n",
    "## Problem 5\n",
    "If $ A(a, x) = \\left( \\begin{matrix}\n",
    "a + x & a - x & a - x \\\\\n",
    "a - x & a + x & a - x \\\\\n",
    "a - x & a - x & a + x\n",
    "\\end{matrix} \\right)$ and $a = 3.0$, find $x > 0$, so that $det(A(a, x)) = 0$. \n",
    "\n",
    "How are $a$ and $x$ related? When you have found the relationship, try another value for $a$.\n",
    "\n",
    "Tip: Make a code that \n",
    "- uses linearly spaced values for $x \\in [0, 10]$, for example. Use `numpy.linspace`.\n",
    "- calculates the $f(x) = det(A(a, x))$ for all values of $x$ and then \n",
    "- makes a graphical plot of $f(x)$ versus $x$. \n",
    "- Finally, from the graph, find when $f(x) = 0$."
   ]
  },
  {
   "cell_type": "code",
   "execution_count": null,
   "id": "19dedf68-5047-4df2-8f8f-e38ab5aa2e91",
   "metadata": {},
   "outputs": [],
   "source": [
    "# Solution for problem 5\n",
    "\n",
    "\n"
   ]
  },
  {
   "cell_type": "code",
   "execution_count": 14,
   "id": "256ae2a3-f1d4-4076-a745-fb5a6f17e00e",
   "metadata": {},
   "outputs": [],
   "source": [
    "# My studies on the relationship between a and x\n"
   ]
  }
 ],
 "metadata": {
  "kernelspec": {
   "display_name": "Python 3",
   "language": "python",
   "name": "python3"
  },
  "language_info": {
   "codemirror_mode": {
    "name": "ipython",
    "version": 3
   },
   "file_extension": ".py",
   "mimetype": "text/x-python",
   "name": "python",
   "nbconvert_exporter": "python",
   "pygments_lexer": "ipython3",
   "version": "3.11.9"
  }
 },
 "nbformat": 4,
 "nbformat_minor": 5
}
