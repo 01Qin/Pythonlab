{
 "cells": [
  {
   "cell_type": "code",
   "execution_count": null,
   "id": "56ad114e-2f6c-46a7-aa6c-9c4563e4365a",
   "metadata": {},
   "outputs": [],
   "source": [
    "name = (\"Wang Qin\") # Write your name between parenthesis\n",
    "student_id = 2414344 # Change your student ID here\n",
    "date_returned = \"30.09.2024\" # Write the date returned between the parenthesis"
   ]
  },
  {
   "cell_type": "markdown",
   "id": "cef4f31e-3d0f-4f36-ad70-a24afc359d21",
   "metadata": {},
   "source": [
    "# Lab 2\n",
    "**Graphical representation of functions**<br>\n",
    "Software 1 course - Mathematics<br>\n",
    "Information and Communication Technology<br>\n",
    "Metropolia University of Applied Sciences\n",
    "\n",
    "## Instructions\n",
    "\n",
    "In these second exercises we \n",
    "- continue learning using numerical python to calculate numerical arrays that represents the functions and their values\n",
    "- use matplotlib graphical library to sketch several functions in the same graph, and\n",
    "- lastly learn to solve mathematical equations graphically.\n",
    "\n",
    "Links to the documentation of the new functions:\n",
    "- [numpy.linspace](https://numpy.org/doc/stable/reference/generated/numpy.linspace.html)\n",
    "- [pyplot.legend](https://matplotlib.org/stable/api/_as_gen/matplotlib.pyplot.legend.html)\n",
    "- [How to label a line in matplotlib](https://www.tutorialspoint.com/how-to-label-a-line-in-matplotlib-python)\n",
    "- [pyplot.subplots](https://matplotlib.org/stable/api/_as_gen/matplotlib.pyplot.subplots.html)\n",
    "\n",
    "You can use [Moodle Quiz Lab 2](https://moodle.metropolia.fi/course/view.php?id=1960) to automatically check and verify your answers."
   ]
  },
  {
   "cell_type": "markdown",
   "id": "5c041c9b-14d0-4e83-ac58-ef2659adcbac",
   "metadata": {},
   "source": [
    "## Setup\n",
    "\n",
    "Read necessary libraries. Notice that you need to import these libraries only once in the Notebook environment."
   ]
  },
  {
   "cell_type": "code",
   "execution_count": null,
   "id": "438caee2-75aa-4261-803c-3556adef1617",
   "metadata": {},
   "outputs": [],
   "source": [
    "import numpy as np\n",
    "import matplotlib.pyplot as plt"
   ]
  },
  {
   "cell_type": "markdown",
   "id": "f6962874-166e-47d9-a710-a74e9309398c",
   "metadata": {},
   "source": [
    "## Problem 1\n",
    "\n",
    "Create a *linearly spaced numerical array* of $x$ from $0$ to $10$ having $100$ samples."
   ]
  },
  {
   "cell_type": "code",
   "execution_count": null,
   "id": "4c775cbb-33b4-4a39-a4d1-cb21fe4652f1",
   "metadata": {},
   "outputs": [],
   "source": [
    "x = None"
   ]
  },
  {
   "cell_type": "markdown",
   "id": "9746dea8-a94e-4db4-a7c0-448044e0b945",
   "metadata": {},
   "source": [
    "## Problem 2\n",
    "\n",
    "Using the *linearly spaced numerical array* of $x$ from $0$ to $10$ having $100$ samples, draw a graph of the function $y = (x-2)\\cdot(x-8)$.\n",
    "\n",
    "Annotate the graph:\n",
    "- Add grid lines to the graph\n",
    "- Add label for the x-axis: \"x-axis\"\n",
    "- add label for the y-axis: \"y-axis\"\n",
    "- Add title for the graph: \"Polynomial function\"\n"
   ]
  },
  {
   "cell_type": "code",
   "execution_count": null,
   "id": "ba3c954d-da79-4a4a-b18e-8e8288773211",
   "metadata": {},
   "outputs": [],
   "source": [
    "x = None\n",
    "y = None\n",
    "\n",
    "# Graphics commands\n"
   ]
  },
  {
   "cell_type": "markdown",
   "id": "836e363f-8144-4d45-bdd1-8641b23927c1",
   "metadata": {},
   "source": [
    "## Problem 3\n",
    "\n",
    "Using linearly spaced numerical array of $x$ from $0$ to $10$ having $100$ samples draw in the same graph two polynomials $y1 = (x-2)\\cdot(x-8)$ and $y2 = (x-2)\\cdot(x-5)\\cdot(x-8)$."
   ]
  },
  {
   "cell_type": "code",
   "execution_count": null,
   "id": "4c9a94d8-b524-4776-94c7-646c8015b045",
   "metadata": {},
   "outputs": [],
   "source": [
    "x = None\n",
    "y1 = None\n",
    "y2 = None"
   ]
  },
  {
   "cell_type": "markdown",
   "id": "1e4ae178-cd5c-4ba1-9336-022a8509c3c0",
   "metadata": {},
   "source": [
    "## Problem 4\n",
    "\n",
    "Using linearly spaced numerical array of $x$ from $0$ to $10$ having $100$ samples draw in the same graph two polynomials $y1 = (x-2)\\cdot(x-8)$ and $y2 = (x-2)\\cdot(x-5)\\cdot(x-8)$. (same as in previous problem).\n",
    "\n",
    "Annotate the graph:\n",
    "- Add labels 'y1' and 'y2' to the plots.\n",
    "- Add grid lines to the graph.\n",
    "- Add x-label: 'x-axis'.\n",
    "- Add y-label: 'y-axis'.\n",
    "- Add title: 'Polynomial functions'.\n",
    "- Add legend to the graph."
   ]
  },
  {
   "cell_type": "code",
   "execution_count": null,
   "id": "0de6b5e3-5a6c-46ab-929d-944add91aa78",
   "metadata": {},
   "outputs": [],
   "source": [
    "x = None\n",
    "y1 = None\n",
    "y2 = None"
   ]
  },
  {
   "cell_type": "markdown",
   "id": "a30a42ff-e8b1-4999-a41b-8291d6e7ecd9",
   "metadata": {},
   "source": [
    "## Problem 5\n",
    "\n",
    "Using linearly spaced numerical array of $x$ from $0$ to $10$ having $100$ samples calculate the values for the two polynomials $y1 = (x-2)\\cdot(x-8)$ and $y2 = (x-2)\\cdot(x-5)\\cdot(x-8)$. (same as in previous problem).\n",
    "\n",
    "Using two subplots, plot the first polynomial on the first axes and then the second polynomial on the second axes. \n",
    "- Use figure size of (6, 8).\n",
    "\n",
    "Annotate the graph:\n",
    "- Add grid lines to both plots.\n",
    "- Add title: 'y1' to the first subplot.\n",
    "- Add title: 'y2' to the second subplot.\n",
    "- Add x-label: 'x-axis' to the second plot."
   ]
  },
  {
   "cell_type": "code",
   "execution_count": null,
   "id": "201cc902-4bf5-47f1-90df-fc6191a4981f",
   "metadata": {},
   "outputs": [],
   "source": [
    "fig, ax = plt.subplots(2)\n",
    "\n",
    "x = None\n",
    "y1 = None\n",
    "y2 = None\n",
    "\n",
    "# plt.sca(ax[0])\n",
    "# plt.plot(...)\n",
    "\n",
    "# plt.sca(ax[1])\n",
    "# plt.plot(...)\n"
   ]
  },
  {
   "cell_type": "markdown",
   "id": "a6cda05c-72d8-44ab-9313-026d4ff87444",
   "metadata": {},
   "source": [
    "## Problem 6\n",
    "\n",
    "- Calculate values for functions $f(x) = \\sqrt{2x}$ and $g(x) = 5 - x$. Use linearly spaced numerical array of $x$ from $0$ to $10$ having 100 samples.\n",
    "- Use two subplots and figure size of (6, 8).\n",
    "- Draw the full graphs of both functions into the first axes.\n",
    "- Draw a zoomed in version of both functions into the second axes.\n",
    "    - Change the x-axis and y-axis limits for the second axes, so that you can find graphically the intersection point where the equations are equal, e.g. $f(x) = g(x)$.\n",
    "    - Read the intersection values of x and y from the graph and draw the intersection point to the graph using red circle. "
   ]
  },
  {
   "cell_type": "code",
   "execution_count": null,
   "id": "44eab143-595e-455c-b57c-f8fafee90f19",
   "metadata": {},
   "outputs": [],
   "source": [
    "x = None\n",
    "f = None\n",
    "g = None\n",
    "\n",
    "# fig, ax = plt.subplots(2, ...)\n",
    "\n",
    "# plt.sca(ax[0])\n",
    "# ...\n",
    "\n",
    "# plt.sca(ax[1])\n",
    "# ...\n",
    "\n",
    "# Intersection point\n",
    "x0 = 0.00\n",
    "y0 = 0.00\n",
    "# plt.sca(ax[1])\n",
    "# plt.plot(x0, y0, 'ro')\n"
   ]
  }
 ],
 "metadata": {
  "kernelspec": {
   "display_name": "Python 3 (ipykernel)",
   "language": "python",
   "name": "python3"
  },
  "language_info": {
   "codemirror_mode": {
    "name": "ipython",
    "version": 3
   },
   "file_extension": ".py",
   "mimetype": "text/x-python",
   "name": "python",
   "nbconvert_exporter": "python",
   "pygments_lexer": "ipython3",
   "version": "3.9.18"
  },
  "vscode": {
   "interpreter": {
    "hash": "7d1cca3e28dfb4be7cc953b391958c600633deca3281a1c876f383e860a08ea6"
   }
  }
 },
 "nbformat": 4,
 "nbformat_minor": 5
}
